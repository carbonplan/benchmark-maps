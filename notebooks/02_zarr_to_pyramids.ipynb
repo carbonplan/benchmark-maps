{
 "cells": [
  {
   "cell_type": "code",
   "execution_count": null,
   "id": "320fb744-851e-4602-8871-a250a78714ae",
   "metadata": {
    "tags": []
   },
   "outputs": [],
   "source": [
    "import xarray as xr\n",
    "import zarr\n",
    "import os\n",
    "from utils import pyramid\n",
    "import itertools"
   ]
  },
  {
   "cell_type": "code",
   "execution_count": null,
   "id": "9583a9c8-05c3-4f53-bf02-8ff825ad6c75",
   "metadata": {
    "tags": []
   },
   "outputs": [],
   "source": [
    "root_path = \"s3://carbonplan-benchmarks/data\""
   ]
  },
  {
   "cell_type": "code",
   "execution_count": null,
   "id": "a65ded12-a847-4701-8312-7ea875c301b9",
   "metadata": {
    "tags": []
   },
   "outputs": [],
   "source": [
    "attrs = {\n",
    "    \"variable\": \"tasmax\",\n",
    "    \"model\": \"ACCESS-CM2\",\n",
    "    \"data_type\": \"pyramids\",\n",
    "    \"variant\": \"r1i1p1f1\",\n",
    "    \"zarr_version\": \"v2\",\n",
    "    \"shard_orientation\": \"0\",\n",
    "    \"data_shard_size\": \"0\",\n",
    "    \"data_dtype\": \"f4\",\n",
    "    \"coordinate_chunks\": \"0\",\n",
    "    \"coordinate_shards\": \"0\",\n",
    "    \"compression\": \"gzipL1\",\n",
    "    \"inflevel\": \"100\",\n",
    "}\n",
    "pixels_per_tile = [128, 256]\n",
    "data_chunk_size = [1, 5, 10, 25]\n",
    "projections = [\"3857\", \"4326\"]\n",
    "write_empty_chunks = [True]"
   ]
  },
  {
   "cell_type": "code",
   "execution_count": null,
   "id": "c2661bcf-9576-420d-bf75-e274c04cc3ab",
   "metadata": {
    "tags": []
   },
   "outputs": [],
   "source": [
    "store = f\"NEX-GDDP-CMIP6/{attrs['model']}/historical/{attrs['variant']}/{attrs['variable']}/{attrs['variable']}_day_{attrs['model']}_historical_r1i1p1f1_gn\"\n",
    "fp = os.path.join(root_path, store, \"data-1a\")\n",
    "print(fp)"
   ]
  },
  {
   "cell_type": "code",
   "execution_count": null,
   "id": "6d294916-5795-47ab-b622-1fc60ecddae5",
   "metadata": {
    "tags": []
   },
   "outputs": [],
   "source": [
    "for pix, chunk, proj, write in itertools.product(\n",
    "    pixels_per_tile, data_chunk_size, projections, write_empty_chunks\n",
    "):\n",
    "    path = f\"{attrs['data_type']}-{attrs['zarr_version']}-{proj}-{write}-{pix}-{chunk}-{attrs['shard_orientation']}-{attrs['data_shard_size']}-{attrs['data_dtype']}-{attrs['coordinate_chunks']}-{attrs['coordinate_shards']}-{attrs['compression']}-{attrs['inflevel']}\"\n",
    "    target = os.path.join(root_path, store, path)\n",
    "    if proj == \"4326\":\n",
    "        projection = 'equidistant-cylindrical'\n",
    "    elif proj == \"3857\":\n",
    "        projection = 'web-mercator'\n",
    "    pyramid(\n",
    "        ds_path=fp,\n",
    "        target=target,\n",
    "        levels=4,\n",
    "        pixels_per_tile=pix,\n",
    "        target_mb=chunk,\n",
    "        projection=projection,\n",
    "        extra_attrs=attrs,\n",
    "    )"
   ]
  }
 ],
 "metadata": {
  "kernelspec": {
   "display_name": "Python [conda env:benchmark-data]",
   "language": "python",
   "name": "conda-env-benchmark-data-py"
  },
  "language_info": {
   "codemirror_mode": {
    "name": "ipython",
    "version": 3
   },
   "file_extension": ".py",
   "mimetype": "text/x-python",
   "name": "python",
   "nbconvert_exporter": "python",
   "pygments_lexer": "ipython3",
   "version": "3.10.12"
  }
 },
 "nbformat": 4,
 "nbformat_minor": 5
}
