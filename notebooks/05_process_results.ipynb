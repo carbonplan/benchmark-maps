{
 "cells": [
  {
   "cell_type": "code",
   "execution_count": null,
   "id": "9219c840-1d0f-45f9-9750-08a9122b4833",
   "metadata": {
    "tags": []
   },
   "outputs": [],
   "source": [
    "import dask\n",
    "import fsspec\n",
    "import pandas as pd\n",
    "from dask.distributed import Client\n",
    "\n",
    "import carbonplan_benchmarks.analysis as cba"
   ]
  },
  {
   "cell_type": "code",
   "execution_count": null,
   "id": "fce865ed-3254-46cf-a355-0ddea51978a0",
   "metadata": {
    "tags": []
   },
   "outputs": [],
   "source": [
    "client = Client(n_workers=8, threads_per_worker=2)"
   ]
  },
  {
   "cell_type": "markdown",
   "id": "aa39e595-7f7c-456b-a278-d9d5fe28077b",
   "metadata": {},
   "source": [
    "# Create a list of benchmarking results"
   ]
  },
  {
   "cell_type": "markdown",
   "id": "f8d81a88-6b08-43f5-80a4-7ac38dcb49f2",
   "metadata": {},
   "source": [
    "First, define the paths to the baseline images that the tests will be compared against and paths to the metadata files associated with each benchmarking run."
   ]
  },
  {
   "cell_type": "code",
   "execution_count": null,
   "id": "55d93ef4-3f47-41ea-af27-54bdb1c4460b",
   "metadata": {
    "tags": []
   },
   "outputs": [],
   "source": [
    "baseline_fp = \"s3://carbonplan-benchmarks/benchmark-data/v0.2/baselines.json\"\n",
    "metadata_base_fp = \"s3://carbonplan-benchmarks/benchmark-data/v0.2\"\n",
    "url_filter = 'carbonplan-benchmarks.s3.us-west-2.amazonaws.com/data/'"
   ]
  },
  {
   "cell_type": "code",
   "execution_count": null,
   "id": "c36d4f75-566c-4bae-aa14-c48237eedf04",
   "metadata": {
    "tags": []
   },
   "outputs": [],
   "source": [
    "fs = fsspec.filesystem('s3')\n",
    "files = fs.glob(f'{metadata_base_fp}/data-*.json')\n",
    "metadata_files = [f\"{metadata_base_fp}/{f.split('/')[-1]}\" for f in files]\n",
    "print(len(metadata_files))"
   ]
  },
  {
   "cell_type": "markdown",
   "id": "8bc5ba8c-8062-4ac6-a893-8cfc50ba34b1",
   "metadata": {},
   "source": [
    "# Load baseline images for comparison"
   ]
  },
  {
   "cell_type": "code",
   "execution_count": null,
   "id": "a4a68866-72fa-4174-8489-8f344d7665bc",
   "metadata": {
    "tags": []
   },
   "outputs": [],
   "source": [
    "snapshots = cba.load_snapshots(snapshot_path=baseline_fp)"
   ]
  },
  {
   "cell_type": "markdown",
   "id": "1b731bc5-b1c5-4766-9c60-cd7a688590e5",
   "metadata": {
    "tags": []
   },
   "source": [
    "# Create summary table"
   ]
  },
  {
   "cell_type": "markdown",
   "id": "4ff670cd-49ae-4cbc-afcc-a7b3112beb90",
   "metadata": {},
   "source": [
    "Use the utilities from `carbonplan_benchmarks` to load the metadata and baseline images into DataFrames, process those results, and create a summary DataFrame for all runs."
   ]
  },
  {
   "cell_type": "code",
   "execution_count": null,
   "id": "60e4b11f-f031-47a0-b374-21bf4f38102b",
   "metadata": {
    "tags": []
   },
   "outputs": [],
   "source": [
    "@dask.delayed()\n",
    "def add_summary(fp):\n",
    "    metadata, trace_events = cba.load_data(metadata_path=fp, run=0)\n",
    "    data = cba.process_run(metadata=metadata, trace_events=trace_events, snapshots=snapshots)\n",
    "    return cba.create_summary(metadata=metadata, data=data, url_filter=url_filter)"
   ]
  },
  {
   "cell_type": "code",
   "execution_count": null,
   "id": "158d95c7-9f72-4976-9676-699c57805b6b",
   "metadata": {
    "tags": []
   },
   "outputs": [],
   "source": [
    "result = []\n",
    "for file in metadata_files:\n",
    "    result.append(add_summary(file))"
   ]
  },
  {
   "cell_type": "code",
   "execution_count": null,
   "id": "780c6a8a-5249-4e8e-a756-03eb18e0dc05",
   "metadata": {
    "tags": []
   },
   "outputs": [],
   "source": [
    "summary_dfs = dask.compute(result)"
   ]
  },
  {
   "cell_type": "code",
   "execution_count": null,
   "id": "fb599357-3068-4a72-b9fb-7bf83baeedf9",
   "metadata": {
    "tags": []
   },
   "outputs": [],
   "source": [
    "summary = pd.concat(summary_dfs[0])\n",
    "summary"
   ]
  },
  {
   "cell_type": "code",
   "execution_count": null,
   "id": "ac24b9c4-690c-46d1-b879-4edee4fa3f05",
   "metadata": {
    "tags": []
   },
   "outputs": [],
   "source": [
    "summary['region'] = summary['metadata_path'].apply(\n",
    "    lambda x: 'us-west-2' if '2023-08-24' in x else 'us-east-1'\n",
    ")"
   ]
  },
  {
   "cell_type": "markdown",
   "id": "162752d9-eff8-4855-aa1f-1a26009b7075",
   "metadata": {},
   "source": [
    "# Export summary table"
   ]
  },
  {
   "cell_type": "code",
   "execution_count": null,
   "id": "68b3cdae-7a0f-43cd-bcac-e03f55784cde",
   "metadata": {
    "tags": []
   },
   "outputs": [],
   "source": [
    "output_fp = \"s3://carbonplan-benchmarks/benchmark-data/v0.2/summary.parq\"\n",
    "summary.to_parquet(output_fp)"
   ]
  },
  {
   "cell_type": "code",
   "execution_count": null,
   "id": "3871dd6e-7921-4e00-bcad-51412511693c",
   "metadata": {},
   "outputs": [],
   "source": []
  }
 ],
 "metadata": {
  "kernelspec": {
   "display_name": "Python [conda env:benchmark-maps]",
   "language": "python",
   "name": "conda-env-benchmark-maps-py"
  },
  "language_info": {
   "codemirror_mode": {
    "name": "ipython",
    "version": 3
   },
   "file_extension": ".py",
   "mimetype": "text/x-python",
   "name": "python",
   "nbconvert_exporter": "python",
   "pygments_lexer": "ipython3",
   "version": "3.10.12"
  }
 },
 "nbformat": 4,
 "nbformat_minor": 5
}
