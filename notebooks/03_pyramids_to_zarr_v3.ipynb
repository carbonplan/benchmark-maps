{
 "cells": [
  {
   "cell_type": "code",
   "execution_count": null,
   "id": "07caea2a-c09d-4837-9d9d-2f251b8b8b67",
   "metadata": {
    "tags": []
   },
   "outputs": [],
   "source": [
    "import itertools\n",
    "import os\n",
    "\n",
    "import numpy as np\n",
    "import zarrita\n",
    "from utils import calc_shard_size"
   ]
  },
  {
   "cell_type": "code",
   "execution_count": null,
   "id": "d59839d2-f7d7-4698-9120-0766392f613d",
   "metadata": {
    "tags": []
   },
   "outputs": [],
   "source": [
    "root_path = \"s3://carbonplan-benchmarks/data\"\n",
    "orig_path = \"NEX-GDDP-CMIP6/ACCESS-CM2/historical/r1i1p1f1/tasmax/tasmax_day_ACCESS-CM2_historical_r1i1p1f1_gn\""
   ]
  },
  {
   "cell_type": "code",
   "execution_count": null,
   "id": "ec46684b-6018-4189-9f5f-502cb449d5e6",
   "metadata": {
    "tags": []
   },
   "outputs": [],
   "source": [
    "attrs = {\n",
    "    \"variable\": \"tasmax\",\n",
    "    \"model\": \"ACCESS-CM2\",\n",
    "    \"data_type\": \"pyramids\",\n",
    "    \"variant\": \"r1i1p1f1\",\n",
    "    \"zarr_version\": \"v2\",\n",
    "    \"shard_orientation\": \"0\",\n",
    "    \"data_shard_size\": \"0\",\n",
    "    \"data_dtype\": \"f4\",\n",
    "    \"coordinate_chunks\": \"0\",\n",
    "    \"coordinate_shards\": \"0\",\n",
    "    \"compression\": \"gzipL1\",\n",
    "    \"write_empty_chunks\": True,\n",
    "    \"inflevel\": \"100\",\n",
    "}\n",
    "pixels_per_tile = [128, 256]\n",
    "data_chunk_size = [1]  # , 5, 10, 25]\n",
    "projections = [\"3857\", \"4326\"]\n",
    "\n",
    "zarr_version = \"v3\"\n",
    "data_shard_size = [0, 50, 100]\n",
    "shard_orientation = [\"both\"]\n",
    "\n",
    "groups = ['0', '1', '2', '3']\n",
    "sharded_arrays = ['tasmax']\n",
    "arrays = ['tasmax', 'time', 'x', 'y']"
   ]
  },
  {
   "cell_type": "code",
   "execution_count": null,
   "id": "81bd5c93-bdff-468c-ad00-25c504e63c8d",
   "metadata": {
    "tags": []
   },
   "outputs": [],
   "source": [
    "def convert_array_to_v3(\n",
    "    *,\n",
    "    group: str,\n",
    "    array: str,\n",
    "    source_store: str,\n",
    "    target_store: str,\n",
    "    shard_mb: int = None,\n",
    "    orientation: str = 'full-space',\n",
    "):\n",
    "    source_array = zarrita.ArrayV2.open(source_store / group / array)\n",
    "    data = source_array[:]\n",
    "    attrs = source_array.attributes\n",
    "    source_chunks = source_array.metadata.chunks\n",
    "    if shard_mb:\n",
    "        chunks = calc_shard_size(\n",
    "            data, chunks=source_chunks, target_mb=shard_mb, orientation=orientation\n",
    "        )\n",
    "        print(f\"outer_chunks: {chunks}; inner_chunks: {source_chunks}\")\n",
    "        codecs = [\n",
    "            zarrita.codecs.sharding_codec(\n",
    "                chunk_shape=source_chunks,\n",
    "                codecs=[zarrita.codecs.gzip_codec(level=1)],\n",
    "            )\n",
    "        ]\n",
    "    else:\n",
    "        chunks = source_chunks\n",
    "        print(f\"chunks: {chunks}\")\n",
    "        codecs = [zarrita.codecs.gzip_codec(level=1)]\n",
    "    target_array = zarrita.Array.create(\n",
    "        target_store / group / array,\n",
    "        shape=data.shape,\n",
    "        dtype=data.dtype,\n",
    "        chunk_shape=chunks,\n",
    "        fill_value=source_array.metadata.fill_value,\n",
    "        attributes=attrs,\n",
    "        codecs=codecs,\n",
    "    )\n",
    "    target_array[:] = data"
   ]
  },
  {
   "cell_type": "code",
   "execution_count": null,
   "id": "ab5b5eb8-aa67-404d-b041-f3726bc905fc",
   "metadata": {
    "tags": []
   },
   "outputs": [],
   "source": [
    "def convert_group_to_v3(*, group: str, source_store: str, target_store: str):\n",
    "    source_group = zarrita.GroupV2.open(source_store / group)\n",
    "    attrs = source_group.attributes\n",
    "    zarrita.Group.create(target_store / group, attributes=attrs)"
   ]
  },
  {
   "cell_type": "code",
   "execution_count": null,
   "id": "92fd101f-3a2f-432d-a816-d94059e99575",
   "metadata": {
    "tags": []
   },
   "outputs": [],
   "source": [
    "%%time\n",
    "for pix, chunk, proj, shard, orient in itertools.product(\n",
    "    pixels_per_tile, data_chunk_size, projections, data_shard_size, shard_orientation\n",
    "):\n",
    "    path = f\"{attrs['data_type']}-{attrs['zarr_version']}-{proj}-{attrs['write_empty_chunks']}-{pix}-{chunk}-{attrs['shard_orientation']}-{attrs['data_shard_size']}-{attrs['data_dtype']}-{attrs['data_shard_size']}-{attrs['coordinate_chunks']}-{attrs['coordinate_shards']}-{attrs['compression']}-{attrs['inflevel']}\"\n",
    "    source = os.path.join(root_path, orig_path, path)\n",
    "    if shard == 0:\n",
    "        if orient == \"time\":\n",
    "            continue\n",
    "        orient = 0\n",
    "    target_path = f\"{attrs['data_type']}-{zarr_version}-{proj}-{attrs['write_empty_chunks']}-{pix}-{chunk}-{orient}-{shard}-{attrs['data_dtype']}-{attrs['coordinate_chunks']}-{attrs['coordinate_shards']}-{attrs['compression']}-{attrs['inflevel']}\"\n",
    "    target = os.path.join(root_path, orig_path, target_path)\n",
    "    print(f\"Source fp: {source}\")\n",
    "    print(f\"Target fp: {target}\")\n",
    "    source_store = zarrita.RemoteStore(source)\n",
    "    target_store = zarrita.RemoteStore(target)\n",
    "    source_group = zarrita.GroupV2.open(source_store)\n",
    "    source_attrs = source_group.attributes\n",
    "    source_attrs['zarr_version'] = zarr_version\n",
    "    source_attrs['data_shard_size'] = shard\n",
    "    source_attrs['shard_orientation'] = orient\n",
    "    zarrita.Group.create(target_store, attributes=source_attrs)\n",
    "    for group in groups:\n",
    "        convert_group_to_v3(group=group, source_store=source_store, target_store=target_store)\n",
    "        for array in arrays:\n",
    "            if array in sharded_arrays:\n",
    "                convert_array_to_v3(\n",
    "                    group=group,\n",
    "                    array=array,\n",
    "                    source_store=source_store,\n",
    "                    target_store=target_store,\n",
    "                    shard_mb=shard,\n",
    "                    orientation=orient,\n",
    "                )\n",
    "            else:\n",
    "                convert_array_to_v3(\n",
    "                    group=group, array=array, source_store=source_store, target_store=target_store\n",
    "                )"
   ]
  },
  {
   "cell_type": "code",
   "execution_count": null,
   "id": "8313c280",
   "metadata": {},
   "outputs": [],
   "source": []
  }
 ],
 "metadata": {
  "kernelspec": {
   "display_name": "benchmark-data",
   "language": "python",
   "name": "python3"
  },
  "language_info": {
   "codemirror_mode": {
    "name": "ipython",
    "version": 3
   },
   "file_extension": ".py",
   "mimetype": "text/x-python",
   "name": "python",
   "nbconvert_exporter": "python",
   "pygments_lexer": "ipython3",
   "version": "3.10.12"
  }
 },
 "nbformat": 4,
 "nbformat_minor": 5
}
