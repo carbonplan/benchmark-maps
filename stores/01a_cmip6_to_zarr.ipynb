{
 "cells": [
  {
   "cell_type": "code",
   "execution_count": null,
   "id": "9d81b08a-111c-4c0a-ba2c-da5ea123a01d",
   "metadata": {
    "tags": []
   },
   "outputs": [],
   "source": [
    "import xarray as xr\n",
    "import fsspec\n",
    "import rioxarray"
   ]
  },
  {
   "cell_type": "code",
   "execution_count": null,
   "id": "1abe8104-4252-4934-a112-999545566e4f",
   "metadata": {
    "tags": []
   },
   "outputs": [],
   "source": [
    "with fsspec.open(\n",
    "    's3://nex-gddp-cmip6-cog/monthly/CMIP6_ensemble_median/tasmax/tasmax_month_ensemble-median_historical_195001.tif'\n",
    ") as f:\n",
    "    ds = rioxarray.open_rasterio(f)"
   ]
  },
  {
   "cell_type": "code",
   "execution_count": null,
   "id": "7aa18611-1d4a-4a44-a50e-46f784012747",
   "metadata": {
    "tags": []
   },
   "outputs": [],
   "source": [
    "TARGET_MB = 100\n",
    "\n",
    "from utils import calc_chunk_dict\n",
    "\n",
    "target_chunks = calc_chunk_dict(ds, TARGET_MB)"
   ]
  },
  {
   "cell_type": "code",
   "execution_count": null,
   "id": "a6a68259-3228-4676-aeac-77a02245edad",
   "metadata": {
    "tags": []
   },
   "outputs": [],
   "source": [
    "import pandas as pd"
   ]
  },
  {
   "cell_type": "code",
   "execution_count": null,
   "id": "f9570141-2055-4976-bc3f-1b3afbf6e1c6",
   "metadata": {
    "tags": []
   },
   "outputs": [],
   "source": [
    "input_url_pattern = \"s3://nex-gddp-cmip6-cog/monthly/CMIP6_ensemble_median/tasmax/tasmax_month_ensemble-median_historical_{yyyymm}.tif\""
   ]
  },
  {
   "cell_type": "code",
   "execution_count": null,
   "id": "245c959d-356a-45e1-b785-6ccf5e781867",
   "metadata": {
    "tags": []
   },
   "outputs": [],
   "source": [
    "dates = pd.date_range(\"1950-01-01\", \"2014-12-31\", freq=\"M\", inclusive=\"both\")\n",
    "dates\n",
    "input_urls = [input_url_pattern.format(yyyymm=day.strftime(\"%Y%m\")) for day in dates]"
   ]
  },
  {
   "cell_type": "code",
   "execution_count": null,
   "id": "91ec03f2-496f-4833-9fae-42242fa11f68",
   "metadata": {
    "tags": []
   },
   "outputs": [],
   "source": [
    "from pangeo_forge_recipes.patterns import pattern_from_file_sequence\n",
    "\n",
    "pattern = pattern_from_file_sequence(input_urls, \"time\", nitems_per_file=1)\n",
    "pattern"
   ]
  },
  {
   "cell_type": "code",
   "execution_count": null,
   "id": "df69a864-b359-469d-9859-74c7bc9770cc",
   "metadata": {
    "tags": []
   },
   "outputs": [],
   "source": [
    "import apache_beam as beam\n",
    "from pangeo_forge_recipes.transforms import OpenURLWithFSSpec, OpenWithXarray, StoreToZarr"
   ]
  },
  {
   "cell_type": "code",
   "execution_count": null,
   "id": "e556ac3e-3e5a-45e6-8abb-cab3acd3f7ce",
   "metadata": {
    "tags": []
   },
   "outputs": [],
   "source": [
    "import os\n",
    "\n",
    "target_root = (\n",
    "    \"s3://carbonplan-scratch/maps-data/c0/nex-gddp-cmip6/monthly/CMIP6_ensemble_median/tasmax/\"\n",
    ")\n",
    "store_name = \"tasmax_month_ensemble-median_historical\"\n",
    "target_store = os.path.join(target_root, store_name)"
   ]
  },
  {
   "cell_type": "code",
   "execution_count": null,
   "id": "5be35744-1c8f-4163-9022-14f55ffd5b71",
   "metadata": {
    "tags": []
   },
   "outputs": [],
   "source": [
    "pattern = pattern.prune(nkeep=15)\n",
    "pattern"
   ]
  },
  {
   "cell_type": "code",
   "execution_count": null,
   "id": "b15a2244-6e54-4f29-ae8a-31939ec7a8a4",
   "metadata": {
    "tags": []
   },
   "outputs": [],
   "source": [
    "from pangeo_forge_recipes.transforms import Indexed, T\n",
    "\n",
    "\n",
    "class SetTimeAsCoord(beam.PTransform):\n",
    "    \"\"\"A preprocessing function to assign time from value in filepattern\"\"\"\n",
    "\n",
    "    @staticmethod\n",
    "    def _set_time_as_coord(item: Indexed[T]) -> Indexed[T]:\n",
    "        index, ds = item\n",
    "        time = xda.encoding[\"source\"].split(\"_\")[-1].split(\".\")[0]\n",
    "        ds = (\n",
    "            ds.expand_dims(time=[np.datetime64(time[0:4] + '-' + time[4:6])])\n",
    "            .squeeze(dim=[\"band\"], drop=True)\n",
    "            .drop(\"spatial_ref\")\n",
    "            .rename({\"band_data\": \"tasmax\", \"x\": \"lon\", \"y\": \"lat\"})\n",
    "            .sortby(\"lat\")\n",
    "        )\n",
    "        return index, ds\n",
    "\n",
    "    def expand(self, pcoll: beam.PCollection) -> beam.PCollection:\n",
    "        return pcoll | beam.Map(self._set_time_as_coord)"
   ]
  },
  {
   "cell_type": "code",
   "execution_count": null,
   "id": "50bd8318-cb43-48c7-b2db-260f5a46bce0",
   "metadata": {
    "tags": []
   },
   "outputs": [],
   "source": [
    "transforms = (\n",
    "    beam.Create(pattern.items())\n",
    "    | OpenURLWithFSSpec(open_kwargs={'anon': True})\n",
    "    | OpenWithXarray(file_type=pattern.file_type, xarray_open_kwargs={'engine': 'rasterio'})\n",
    "    | SetTimeAsCoord()\n",
    "    | StoreToZarr(\n",
    "        store_name=store_name,\n",
    "        target_root=target_root,\n",
    "        combine_dims=pattern.combine_dim_keys,\n",
    "        target_chunks=target_chunks,\n",
    "    )\n",
    ")\n",
    "transforms"
   ]
  },
  {
   "cell_type": "code",
   "execution_count": null,
   "id": "ea84a91a-ab09-48cc-804d-0d6431156cc0",
   "metadata": {
    "tags": []
   },
   "outputs": [],
   "source": [
    "with beam.Pipeline() as p:\n",
    "    p | transforms"
   ]
  }
 ],
 "metadata": {
  "kernelspec": {
   "display_name": "Python [conda env:benchmark-maps]",
   "language": "python",
   "name": "conda-env-benchmark-maps-py"
  },
  "language_info": {
   "codemirror_mode": {
    "name": "ipython",
    "version": 3
   },
   "file_extension": ".py",
   "mimetype": "text/x-python",
   "name": "python",
   "nbconvert_exporter": "python",
   "pygments_lexer": "ipython3",
   "version": "3.10.11"
  }
 },
 "nbformat": 4,
 "nbformat_minor": 5
}
