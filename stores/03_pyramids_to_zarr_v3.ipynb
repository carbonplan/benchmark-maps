{
 "cells": [
  {
   "cell_type": "code",
   "execution_count": null,
   "id": "07caea2a-c09d-4837-9d9d-2f251b8b8b67",
   "metadata": {
    "tags": []
   },
   "outputs": [],
   "source": [
    "import zarrita\n",
    "import os"
   ]
  },
  {
   "cell_type": "code",
   "execution_count": null,
   "id": "d59839d2-f7d7-4698-9120-0766392f613d",
   "metadata": {
    "tags": []
   },
   "outputs": [],
   "source": [
    "root_path = \"s3://carbonplan-benchmarks/data\"\n",
    "orig_path = \"NEX-GDDP-CMIP6/ACCESS-CM2/historical/r1i1p1f1/tasmax/tasmax_day_ACCESS-CM2_historical_r1i1p1f1_gn\""
   ]
  },
  {
   "cell_type": "code",
   "execution_count": null,
   "id": "ec46684b-6018-4189-9f5f-502cb449d5e6",
   "metadata": {
    "tags": []
   },
   "outputs": [],
   "source": [
    "source_stores = [\n",
    "    \"pyramids-v2-3857-0\",\n",
    "    \"pyramids-v2-3857-1\",\n",
    "    \"pyramids-v2-4326-0\",\n",
    "]\n",
    "\n",
    "groups = ['0', '1', '2', '3']\n",
    "arrays = ['tasmax', 'time', 'x', 'y']"
   ]
  },
  {
   "cell_type": "code",
   "execution_count": null,
   "id": "9771999b-6eb4-4114-8244-4b5a784cf42a",
   "metadata": {
    "tags": []
   },
   "outputs": [],
   "source": [
    "def convert_array_to_v3(*, group: str, array: str, source_store: str, target_store: str):\n",
    "    source_array = zarrita.ArrayV2.open(source_store / group / array)\n",
    "    data = source_array[:]\n",
    "    attrs = source_array.attributes\n",
    "    chunks = source_array.metadata.chunks\n",
    "    target_array = zarrita.Array.create(\n",
    "        target_store / group / array,\n",
    "        shape=data.shape,\n",
    "        dtype=data.dtype,\n",
    "        chunk_shape=chunks,\n",
    "        attributes=attrs,\n",
    "        codecs=[zarrita.codecs.gzip_codec()],\n",
    "    )\n",
    "    target_array[:] = data"
   ]
  },
  {
   "cell_type": "code",
   "execution_count": null,
   "id": "81bd5c93-bdff-468c-ad00-25c504e63c8d",
   "metadata": {
    "tags": []
   },
   "outputs": [],
   "source": [
    "def convert_array_to_sharded_v3(*, group: str, array: str, source_store: str, target_store: str):\n",
    "    source_array = zarrita.ArrayV2.open(source_store / group / array)\n",
    "    data = source_array[:]\n",
    "    attrs = source_array.attributes\n",
    "    chunks = source_array.metadata.chunks\n",
    "    target_array = zarrita.Array.create(\n",
    "        target_store / group / array,\n",
    "        shape=data.shape,\n",
    "        dtype=data.dtype,\n",
    "        chunk_shape=data.shape,\n",
    "        attributes=attrs,\n",
    "        codecs=[\n",
    "            zarrita.codecs.sharding_codec(\n",
    "                chunk_shape=chunks,\n",
    "                codecs=[zarrita.codecs.gzip_codec()],\n",
    "            )\n",
    "        ],\n",
    "    )\n",
    "    target_array[:] = data"
   ]
  },
  {
   "cell_type": "code",
   "execution_count": null,
   "id": "ab5b5eb8-aa67-404d-b041-f3726bc905fc",
   "metadata": {
    "tags": []
   },
   "outputs": [],
   "source": [
    "def convert_group_to_v3(*, group: str, source_store: str, target_store: str):\n",
    "    source_group = zarrita.GroupV2.open(source_store / group)\n",
    "    attrs = source_group.attributes\n",
    "    zarrita.Group.create(target_store / group, attributes=attrs)"
   ]
  },
  {
   "cell_type": "code",
   "execution_count": null,
   "id": "ad537d3c-4f71-44ef-adbe-8cab4d3f2457",
   "metadata": {
    "tags": []
   },
   "outputs": [],
   "source": [
    "def convert_store_to_v3(*, source_store, target_store, sharded: bool = False):\n",
    "    for group in groups:\n",
    "        convert_group_to_v3(group=group, source_store=source_store, target_store=target_store)\n",
    "        for array in arrays:\n",
    "            if sharded:\n",
    "                convert_array_to_sharded_v3(\n",
    "                    group=group, array=array, source_store=source_store, target_store=target_store\n",
    "                )\n",
    "            else:\n",
    "                convert_array_to_v3(\n",
    "                    group=group, array=array, source_store=source_store, target_store=target_store\n",
    "                )"
   ]
  },
  {
   "cell_type": "markdown",
   "id": "630bd453-14bb-4bdd-a1d5-db5ab24db87e",
   "metadata": {},
   "source": [
    "### Zarr v3 (no shards)"
   ]
  },
  {
   "cell_type": "code",
   "execution_count": null,
   "id": "31ac4714-ad92-44c9-a17b-464c3131ed84",
   "metadata": {
    "tags": []
   },
   "outputs": [],
   "source": [
    "for path in source_stores:\n",
    "    orig = os.path.join(root_path, orig_path, path)\n",
    "    target = orig.replace(\"v2\", \"v3\")\n",
    "    print(orig)\n",
    "    print(target)\n",
    "    source_store = zarrita.RemoteStore(orig)\n",
    "    target_store = zarrita.RemoteStore(target)\n",
    "    source_group = zarrita.GroupV2.open(source_store)\n",
    "    attrs = source_group.attributes\n",
    "    zarrita.Group.create(target_store, attributes=attrs)\n",
    "    convert_store_to_v3(source_store=source_store, target_store=target_store, sharded=False)"
   ]
  },
  {
   "cell_type": "markdown",
   "id": "a707a470-6eb5-422e-9b34-6bd8236f2d35",
   "metadata": {},
   "source": [
    "### Zarr v3 (sharded)"
   ]
  },
  {
   "cell_type": "code",
   "execution_count": null,
   "id": "da1736e8-9c57-456b-a59d-1bbaeae70646",
   "metadata": {},
   "outputs": [],
   "source": [
    "for path in source_stores:\n",
    "    orig = os.path.join(root_path, orig_path, path)\n",
    "    target = orig.replace(\"v2\", \"v3-sharded\")\n",
    "    print(orig)\n",
    "    print(target)\n",
    "    source_store = zarrita.RemoteStore(orig)\n",
    "    target_store = zarrita.RemoteStore(target)\n",
    "    source_group = zarrita.GroupV2.open(source_store)\n",
    "    attrs = source_group.attributes\n",
    "    zarrita.Group.create(target_store, attributes=attrs)\n",
    "    convert_store_to_v3(source_store=source_store, target_store=target_store, sharded=True)"
   ]
  },
  {
   "cell_type": "code",
   "execution_count": null,
   "id": "b3fc235e-87a5-4d32-8a65-bdce999a80c4",
   "metadata": {},
   "outputs": [],
   "source": []
  }
 ],
 "metadata": {
  "kernelspec": {
   "display_name": "Python [conda env:benchmark-data]",
   "language": "python",
   "name": "conda-env-benchmark-data-py"
  },
  "language_info": {
   "codemirror_mode": {
    "name": "ipython",
    "version": 3
   },
   "file_extension": ".py",
   "mimetype": "text/x-python",
   "name": "python",
   "nbconvert_exporter": "python",
   "pygments_lexer": "ipython3",
   "version": "3.10.12"
  }
 },
 "nbformat": 4,
 "nbformat_minor": 5
}
