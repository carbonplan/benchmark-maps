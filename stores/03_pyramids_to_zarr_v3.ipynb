{
 "cells": [
  {
   "cell_type": "code",
   "execution_count": null,
   "id": "07caea2a-c09d-4837-9d9d-2f251b8b8b67",
   "metadata": {
    "tags": []
   },
   "outputs": [],
   "source": [
    "import zarrita\n",
    "import os"
   ]
  },
  {
   "cell_type": "code",
   "execution_count": null,
   "id": "d59839d2-f7d7-4698-9120-0766392f613d",
   "metadata": {
    "tags": []
   },
   "outputs": [],
   "source": [
    "root_path = \"s3://carbonplan-benchmarks/data\"\n",
    "orig_stores = [\n",
    "    # \"nex-gddp-cmip6/monthly/CMIP6_ensemble_median/tasmax/tasmax_month_ensemble-median_historical.zarr\",\n",
    "    \"NEX-GDDP-CMIP6/ACCESS-CM2/historical/r1i1p1f1/tasmax/tasmax_day_ACCESS-CM2_historical_r1i1p1f1_gn\"\n",
    "]\n",
    "fp = os.path.join(root_path, orig_stores[0])"
   ]
  },
  {
   "cell_type": "code",
   "execution_count": null,
   "id": "ec46684b-6018-4189-9f5f-502cb449d5e6",
   "metadata": {
    "tags": []
   },
   "outputs": [],
   "source": [
    "targets = {\n",
    "    1: \"pyramids-v2-3857-0\",\n",
    "    # 5: \"pyramids-v3-3857-1\",\n",
    "    # 10: \"pyramids-v3-3857-2\",\n",
    "    # 20: \"pyramids-v3-3857-3\",\n",
    "}\n",
    "\n",
    "groups = ['0', '1', '2', '3']\n",
    "arrays = ['tasmax', 'time', 'x', 'y']"
   ]
  },
  {
   "cell_type": "code",
   "execution_count": null,
   "id": "81bd5c93-bdff-468c-ad00-25c504e63c8d",
   "metadata": {
    "tags": []
   },
   "outputs": [],
   "source": [
    "def convert_group_to_v3(*, group: str, source_store: str, target_store: str):\n",
    "    source_group = zarrita.GroupV2.open(source_store / group)\n",
    "    attrs = source_group.attributes\n",
    "    zarrita.Group.create(target_store / group, attributes=attrs)\n",
    "\n",
    "\n",
    "def convert_array_to_v3(*, group: str, array: str, source_store: str, target_store: str):\n",
    "    source_array = zarrita.ArrayV2.open(source_store / group / array)\n",
    "    data = source_array[:]\n",
    "    attrs = source_array.attributes\n",
    "    chunks = source_array.metadata.chunks\n",
    "    target_array = zarrita.Array.create(\n",
    "        target_store / group / array,\n",
    "        shape=data.shape,\n",
    "        dtype=data.dtype,\n",
    "        chunk_shape=chunks,\n",
    "        attributes=attrs,\n",
    "        codecs=[zarrita.codecs.endian_codec(), zarrita.codecs.gzip_codec()],\n",
    "    )\n",
    "    target_array[:] = data"
   ]
  },
  {
   "cell_type": "code",
   "execution_count": null,
   "id": "ad537d3c-4f71-44ef-adbe-8cab4d3f2457",
   "metadata": {
    "tags": []
   },
   "outputs": [],
   "source": [
    "def convert_store_to_v3(*, source_store, target_store):\n",
    "    for group in groups:\n",
    "        convert_group_to_v3(group=group, source_store=source_store, target_store=target_store)\n",
    "        for array in arrays:\n",
    "            convert_array_to_v3(\n",
    "                group=group, array=array, source_store=source_store, target_store=target_store\n",
    "            )"
   ]
  },
  {
   "cell_type": "code",
   "execution_count": null,
   "id": "31ac4714-ad92-44c9-a17b-464c3131ed84",
   "metadata": {
    "tags": []
   },
   "outputs": [],
   "source": [
    "for store in orig_stores:\n",
    "    for target_mb, path in targets.items():\n",
    "        orig = os.path.join(root_path, store, path)\n",
    "        target = orig.replace(\"v2\", \"v3\")\n",
    "        source_store = zarrita.RemoteStore(orig)\n",
    "        target_store = zarrita.RemoteStore(target)\n",
    "        convert_store_to_v3(source_store=source_store, target_store=target_store)"
   ]
  },
  {
   "cell_type": "code",
   "execution_count": null,
   "id": "f6f9fbc7-40cb-4dd8-909f-102498bfb35b",
   "metadata": {},
   "outputs": [],
   "source": []
  }
 ],
 "metadata": {
  "kernelspec": {
   "display_name": "Python [conda env:benchmark-data]",
   "language": "python",
   "name": "conda-env-benchmark-data-py"
  },
  "language_info": {
   "codemirror_mode": {
    "name": "ipython",
    "version": 3
   },
   "file_extension": ".py",
   "mimetype": "text/x-python",
   "name": "python",
   "nbconvert_exporter": "python",
   "pygments_lexer": "ipython3",
   "version": "3.10.12"
  }
 },
 "nbformat": 4,
 "nbformat_minor": 5
}
