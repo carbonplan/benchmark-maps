{
 "cells": [
  {
   "cell_type": "code",
   "execution_count": null,
   "id": "82c64ef0-f71b-4b4b-aa24-ddb9b25ec7dd",
   "metadata": {
    "tags": []
   },
   "outputs": [],
   "source": [
    "import itertools\n",
    "from carbonplan_benchmarks.utils import shuffle_runs"
   ]
  },
  {
   "cell_type": "code",
   "execution_count": null,
   "id": "398f7c81-f0c0-4787-adb6-0d09ce197518",
   "metadata": {
    "tags": []
   },
   "outputs": [],
   "source": [
    "attrs = {\n",
    "    \"variable\": \"tasmax\",\n",
    "    \"model\": \"ACCESS-CM2\",\n",
    "    \"data_type\": \"pyramids\",\n",
    "    \"variant\": \"r1i1p1f1\",\n",
    "    \"zarr_version\": \"v2\",\n",
    "    \"shard_orientation\": \"0\",\n",
    "    \"data_shard_size\": \"0\",\n",
    "    \"data_dtype\": \"f4\",\n",
    "    \"coordinate_chunks\": \"0\",\n",
    "    \"coordinate_shards\": \"0\",\n",
    "    \"compression\": \"gzipL1\",\n",
    "    \"write_empty_chunks\": True,\n",
    "    \"inflevel\": \"100\",\n",
    "}\n",
    "pixels_per_tile = [128, 256]\n",
    "data_chunk_size = [1, 5, 10, 25]\n",
    "projections = [\"3857\", \"4326\"]\n",
    "\n",
    "zarr_version = \"v3\"\n",
    "data_shard_size = [0, 50, 100]\n",
    "shard_orientation = [\"both\"]\n",
    "\n",
    "groups = ['0', '1', '2', '3']\n",
    "sharded_arrays = ['tasmax']\n",
    "arrays = ['tasmax', 'time', 'x', 'y']"
   ]
  },
  {
   "cell_type": "code",
   "execution_count": null,
   "id": "679d3f31-7365-4651-bd5f-4c4dc1d0f267",
   "metadata": {
    "tags": []
   },
   "outputs": [],
   "source": [
    "datasets = []\n",
    "for pix, chunk, proj in itertools.product(pixels_per_tile, data_chunk_size, projections):\n",
    "    path = f\"{attrs['data_type']}-{attrs['zarr_version']}-{proj}-{attrs['write_empty_chunks']}-{pix}-{chunk}-{attrs['shard_orientation']}-{attrs['data_shard_size']}-{attrs['data_dtype']}-{attrs['data_shard_size']}-{attrs['coordinate_chunks']}-{attrs['coordinate_shards']}-{attrs['compression']}-{attrs['inflevel']}\"\n",
    "    datasets.append(path)\n",
    "    if proj == \"3857\":\n",
    "        projection = \"mercator\"\n",
    "    else:\n",
    "        projection = \"equirectangular\"\n",
    "    print(\"{\")\n",
    "    print(\n",
    "        f\"\\t...SHARED_ATTRS,\\n\\tid: \\'{path}\\',\\n\\t\"\n",
    "        f\"version: 'v2',\\n\\t\"\n",
    "        f\"chunkSize: {chunk},\\n\\t\"\n",
    "        f\"timeChunks: 10,\\n\\t\"\n",
    "        f\"projection: '{projection}',\\n\\t\"\n",
    "        f\"consolidatedMetadata: true,\\n\\t\"\n",
    "        f\"shardOrientation: false,\\n\\t\"\n",
    "        f\"shardSize: false,\\n\\t\"\n",
    "    )\n",
    "    print(\"},\")\n",
    "for pix, chunk, proj, shard, orient in itertools.product(\n",
    "    pixels_per_tile, data_chunk_size, projections, data_shard_size, shard_orientation\n",
    "):\n",
    "    if shard == 0:\n",
    "        orient = 0\n",
    "    path = f\"{attrs['data_type']}-{zarr_version}-{proj}-{attrs['write_empty_chunks']}-{pix}-{chunk}-{orient}-{shard}-{attrs['data_dtype']}-{attrs['coordinate_chunks']}-{attrs['coordinate_shards']}-{attrs['compression']}-{attrs['inflevel']}\"\n",
    "    datasets.append(path)\n",
    "    if proj == \"3857\":\n",
    "        projection = \"mercator\"\n",
    "    else:\n",
    "        projection = \"equirectangular\"\n",
    "    if shard == 0:\n",
    "        orient = \"false\"\n",
    "    print(\"{\")\n",
    "    print(\n",
    "        f\"\\t...SHARED_ATTRS,\\n\\tid: \\'{path}\\',\\n\\t\"\n",
    "        f\"version: 'v3',\\n\\t\"\n",
    "        f\"chunkSize: {chunk},\\n\\t\"\n",
    "        f\"timeChunks: 10,\\n\\t\"\n",
    "        f\"projection: '{projection}',\\n\\t\"\n",
    "        f\"consolidatedMetadata: false,\\n\\t\"\n",
    "        f\"shardOrientation: '{orient}',\\n\\t\"\n",
    "        f\"shardSize: {shard},\\n\\t\"\n",
    "    )\n",
    "    print(\"},\")"
   ]
  },
  {
   "cell_type": "code",
   "execution_count": null,
   "id": "373773dd-4c26-40c1-80ce-baa87aa3cd09",
   "metadata": {
    "tags": []
   },
   "outputs": [],
   "source": [
    "commands = shuffle_runs(datasets=datasets, nruns=1, timeout=5000, detect_provider=True)\n",
    "for command in commands:\n",
    "    print(command)"
   ]
  },
  {
   "cell_type": "code",
   "execution_count": null,
   "id": "4d9f2d3d-260c-47c7-b78f-8789796a365e",
   "metadata": {},
   "outputs": [],
   "source": []
  }
 ],
 "metadata": {
  "kernelspec": {
   "display_name": "Python [conda env:benchmark-data]",
   "language": "python",
   "name": "conda-env-benchmark-data-py"
  },
  "language_info": {
   "codemirror_mode": {
    "name": "ipython",
    "version": 3
   },
   "file_extension": ".py",
   "mimetype": "text/x-python",
   "name": "python",
   "nbconvert_exporter": "python",
   "pygments_lexer": "ipython3",
   "version": "3.10.12"
  }
 },
 "nbformat": 4,
 "nbformat_minor": 5
}
