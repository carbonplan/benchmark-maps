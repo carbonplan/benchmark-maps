{
 "cells": [
  {
   "cell_type": "code",
   "execution_count": null,
   "id": "320fb744-851e-4602-8871-a250a78714ae",
   "metadata": {
    "tags": []
   },
   "outputs": [],
   "source": [
    "import xarray as xr\n",
    "import zarr\n",
    "import os\n",
    "from utils import pyramid"
   ]
  },
  {
   "cell_type": "code",
   "execution_count": null,
   "id": "32a0e996-c2e8-4fdf-b789-974e4f5301e1",
   "metadata": {
    "tags": []
   },
   "outputs": [],
   "source": [
    "pixels_per_tile = 128\n",
    "fp = 's3://carbonplan-benchmarks/data/c0/nex-gddp-cmip6/monthly/CMIP6_ensemble_median/tasmax/tasmax_month_ensemble-median_historical.zarr'\n",
    "store_name = 'tasmax_month_ensemble-median_historical.zarr'"
   ]
  },
  {
   "cell_type": "code",
   "execution_count": null,
   "id": "f0219dd8-a223-47bc-ac78-962e6bc5eb32",
   "metadata": {
    "tags": []
   },
   "outputs": [],
   "source": [
    "ds = xr.open_zarr(fp)"
   ]
  },
  {
   "cell_type": "code",
   "execution_count": null,
   "id": "555f376c-4079-469f-9580-d0c84b06d009",
   "metadata": {
    "tags": []
   },
   "outputs": [],
   "source": [
    "targets = {\n",
    "    1: 'c2',\n",
    "    5: 'c3',\n",
    "    10: 'c4',\n",
    "    20: 'c5'\n",
    "}"
   ]
  },
  {
   "cell_type": "code",
   "execution_count": null,
   "id": "c84659dc-a53c-433b-8cbf-3a32246268d4",
   "metadata": {
    "tags": []
   },
   "outputs": [],
   "source": [
    "for target_mb, path in targets.items():\n",
    "    target_root = (\n",
    "        f's3://carbonplan-benchmarks/data/{path}/nex-gddp-cmip6/monthly/CMIP6_ensemble_median/tasmax/'\n",
    "    )\n",
    "    target = os.path.join(target_root, store_name)\n",
    "    print(target)\n",
    "    pyramid(ds_path=fp, target=target, levels=4, pixels_per_tile=pixels_per_tile, target_mb=target_mb)"
   ]
  },
  {
   "cell_type": "code",
   "execution_count": null,
   "id": "5ecafb05-773e-4fda-bc49-0a51723bf86b",
   "metadata": {},
   "outputs": [],
   "source": []
  }
 ],
 "metadata": {
  "kernelspec": {
   "display_name": "Python [conda env:benchmark-maps]",
   "language": "python",
   "name": "conda-env-benchmark-maps-py"
  },
  "language_info": {
   "codemirror_mode": {
    "name": "ipython",
    "version": 3
   },
   "file_extension": ".py",
   "mimetype": "text/x-python",
   "name": "python",
   "nbconvert_exporter": "python",
   "pygments_lexer": "ipython3",
   "version": "3.10.11"
  }
 },
 "nbformat": 4,
 "nbformat_minor": 5
}
