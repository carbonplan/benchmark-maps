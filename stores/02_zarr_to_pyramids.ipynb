{
 "cells": [
  {
   "cell_type": "code",
   "execution_count": null,
   "id": "320fb744-851e-4602-8871-a250a78714ae",
   "metadata": {
    "tags": []
   },
   "outputs": [],
   "source": [
    "import xarray as xr\n",
    "import zarr\n",
    "import os\n",
    "from utils import pyramid"
   ]
  },
  {
   "cell_type": "code",
   "execution_count": null,
   "id": "9583a9c8-05c3-4f53-bf02-8ff825ad6c75",
   "metadata": {
    "tags": []
   },
   "outputs": [],
   "source": [
    "root_path = \"s3://carbonplan-benchmarks/data\"\n",
    "pixels_per_tile = 128\n",
    "number_of_time_slices = None"
   ]
  },
  {
   "cell_type": "code",
   "execution_count": null,
   "id": "c2661bcf-9576-420d-bf75-e274c04cc3ab",
   "metadata": {
    "tags": []
   },
   "outputs": [],
   "source": [
    "orig_stores = [\n",
    "    # \"nex-gddp-cmip6/monthly/CMIP6_ensemble_median/tasmax/tasmax_month_ensemble-median_historical.zarr\",\n",
    "    \"NEX-GDDP-CMIP6/ACCESS-CM2/historical/r1i1p1f1/tasmax/tasmax_day_ACCESS-CM2_historical_r1i1p1f1_gn\"\n",
    "]\n",
    "fp = os.path.join(root_path, orig_stores[0])"
   ]
  },
  {
   "cell_type": "code",
   "execution_count": null,
   "id": "555f376c-4079-469f-9580-d0c84b06d009",
   "metadata": {
    "tags": []
   },
   "outputs": [],
   "source": [
    "targets = {\n",
    "    1: \"pyramids-v2-3857-0\",\n",
    "    5: \"pyramids-v2-3857-1\",\n",
    "    10: \"pyramids-v2-3857-2\",\n",
    "    20: \"pyramids-v2-3857-3\",\n",
    "}"
   ]
  },
  {
   "cell_type": "code",
   "execution_count": null,
   "id": "c84659dc-a53c-433b-8cbf-3a32246268d4",
   "metadata": {
    "tags": []
   },
   "outputs": [],
   "source": [
    "for store in orig_stores:\n",
    "    for target_mb, path in targets.items():\n",
    "        fp = os.path.join(root_path, store, \"data-1\")\n",
    "        target = os.path.join(root_path, store, path)\n",
    "        pyramid(\n",
    "            ds_path=fp,\n",
    "            target=target,\n",
    "            levels=4,\n",
    "            pixels_per_tile=pixels_per_tile,\n",
    "            target_mb=target_mb,\n",
    "        )"
   ]
  },
  {
   "cell_type": "code",
   "execution_count": null,
   "id": "5ecafb05-773e-4fda-bc49-0a51723bf86b",
   "metadata": {},
   "outputs": [],
   "source": []
  }
 ],
 "metadata": {
  "kernelspec": {
   "display_name": "Python [conda env:benchmark-data]",
   "language": "python",
   "name": "conda-env-benchmark-data-py"
  },
  "language_info": {
   "codemirror_mode": {
    "name": "ipython",
    "version": 3
   },
   "file_extension": ".py",
   "mimetype": "text/x-python",
   "name": "python",
   "nbconvert_exporter": "python",
   "pygments_lexer": "ipython3",
   "version": "3.10.12"
  }
 },
 "nbformat": 4,
 "nbformat_minor": 5
}
