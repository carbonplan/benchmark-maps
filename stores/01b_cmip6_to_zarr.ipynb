{
 "cells": [
  {
   "cell_type": "code",
   "execution_count": null,
   "id": "2d3940aa-8632-4271-ba10-1e280c033ccf",
   "metadata": {
    "tags": []
   },
   "outputs": [],
   "source": [
    "import xarray as xr\n",
    "import fsspec\n",
    "import rioxarray\n",
    "import numpy as np\n",
    "import pandas as pd\n",
    "from cmip6_downscaling.methods.common.utils import calc_auspicious_chunks_dict"
   ]
  },
  {
   "cell_type": "code",
   "execution_count": null,
   "id": "a4f92307-56e1-49f3-96f2-0cecf189c46c",
   "metadata": {
    "tags": []
   },
   "outputs": [],
   "source": [
    "input_url_pattern = \"s3://nex-gddp-cmip6-cog/monthly/CMIP6_ensemble_median/tasmax/tasmax_month_ensemble-median_historical_{yyyymm}.tif\""
   ]
  },
  {
   "cell_type": "code",
   "execution_count": null,
   "id": "9938c8b3-9e18-4cab-8f09-e5a25d789324",
   "metadata": {
    "tags": []
   },
   "outputs": [],
   "source": [
    "dates = pd.date_range(\"1950-01-01\", \"2014-12-31\", freq=\"M\", inclusive=\"both\")\n",
    "dates\n",
    "input_urls = [input_url_pattern.format(yyyymm=day.strftime(\"%Y%m\")) for day in dates]"
   ]
  },
  {
   "cell_type": "code",
   "execution_count": null,
   "id": "e5457f21-e85f-4002-a5ae-57582066d5b5",
   "metadata": {
    "tags": []
   },
   "outputs": [],
   "source": [
    "def fix_dims(xda):\n",
    "    # preprocess function fed into open_mfdataset. Extracts datetime from tiff encoding and creates time dimension.\n",
    "\n",
    "    time = xda.encoding[\"source\"].split(\"_\")[-1].split(\".\")[0]\n",
    "    xda = (\n",
    "        xda.expand_dims(time=[np.datetime64(time[0:4] + '-' + time[4:6])])\n",
    "        .squeeze(dim=[\"band\"], drop=True)\n",
    "        .drop(\"spatial_ref\")\n",
    "        .rename({\"band_data\": \"tasmax\", \"x\": \"lon\", \"y\": \"lat\"})\n",
    "        .sortby(\"lat\")\n",
    "    )\n",
    "    return xda"
   ]
  },
  {
   "cell_type": "code",
   "execution_count": null,
   "id": "307f3aed-74cb-402d-9e3a-44adafc845d6",
   "metadata": {},
   "outputs": [],
   "source": [
    "ds = xr.open_mfdataset(\n",
    "    input_urls,\n",
    "    engine=\"rasterio\",\n",
    "    chunks={},\n",
    "    parallel=True,\n",
    "    concat_dim=\"time\",\n",
    "    combine=\"nested\",\n",
    "    preprocess=fix_dims,\n",
    ")"
   ]
  },
  {
   "cell_type": "code",
   "execution_count": null,
   "id": "aafffb1f-2ca0-4abc-b313-be1c943bb015",
   "metadata": {},
   "outputs": [],
   "source": [
    "chunks_dict = calc_auspicious_chunks_dict(ds['tasmax'], chunk_dims=('time',))\n",
    "chunks_dict"
   ]
  },
  {
   "cell_type": "code",
   "execution_count": null,
   "id": "96e01ad3-afe5-412b-9d73-984689696f0a",
   "metadata": {},
   "outputs": [],
   "source": [
    "ds = ds.chunk(chunks=chunks_dict)\n",
    "ds = ds.assign_coords({\"time\": ds.time.astype(\"datetime64[ns]\")})\n",
    "ds"
   ]
  },
  {
   "cell_type": "code",
   "execution_count": null,
   "id": "bb10203e-1f35-4ad1-a12d-6c297904143e",
   "metadata": {},
   "outputs": [],
   "source": [
    "import os\n",
    "\n",
    "target_root = (\n",
    "    \"s3://carbonplan-benchmarks/data/c0/nex-gddp-cmip6/monthly/CMIP6_ensemble_median/tasmax/\"\n",
    ")\n",
    "store_name = \"tasmax_month_ensemble-median_historical.zarr\"\n",
    "target_store = os.path.join(target_root, store_name)\n",
    "target_store"
   ]
  },
  {
   "cell_type": "code",
   "execution_count": null,
   "id": "2edcab19-552b-4b2e-af1e-099879ca0f3b",
   "metadata": {},
   "outputs": [],
   "source": [
    "ds.to_zarr(target_store, consolidated=True, mode=\"w\")"
   ]
  }
 ],
 "metadata": {
  "kernelspec": {
   "display_name": "Python 3 (ipykernel)",
   "language": "python",
   "name": "python3"
  },
  "language_info": {
   "codemirror_mode": {
    "name": "ipython",
    "version": 3
   },
   "file_extension": ".py",
   "mimetype": "text/x-python",
   "name": "python",
   "nbconvert_exporter": "python",
   "pygments_lexer": "ipython3",
   "version": "3.10.11"
  }
 },
 "nbformat": 4,
 "nbformat_minor": 5
}
